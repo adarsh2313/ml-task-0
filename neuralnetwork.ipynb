{
 "metadata": {
  "language_info": {
   "codemirror_mode": {
    "name": "ipython",
    "version": 3
   },
   "file_extension": ".py",
   "mimetype": "text/x-python",
   "name": "python",
   "nbconvert_exporter": "python",
   "pygments_lexer": "ipython3",
   "version": "3.9.1"
  },
  "orig_nbformat": 4,
  "kernelspec": {
   "name": "python3",
   "display_name": "Python 3.9.1 64-bit"
  },
  "interpreter": {
   "hash": "aee8b7b246df8f9039afb4144a1f6fd8d2ca17a180786b69acc140d282b71a49"
  }
 },
 "nbformat": 4,
 "nbformat_minor": 2,
 "cells": [
  {
   "cell_type": "code",
   "execution_count": 1,
   "metadata": {},
   "outputs": [],
   "source": [
    "import numpy as np\n",
    "import pandas as pd\n",
    "X = pd.read_csv(\"student-course1.csv\",sep = ';',usecols=['age','studytime','freetime','goout','traveltime','health','absences','failures'], skiprows = [i for i in range(300,390)])\n",
    "X = np.array(X).T\n",
    "Y = pd.read_csv(\"student-course1.csv\",sep = ';',usecols=['G1','G2','G3'], skiprows = [i for i in range(300,390)])\n",
    "Y = np.array(Y).T\n",
    "X_test = pd.read_csv(\"student-course1.csv\",sep = ';',usecols=['age','studytime','freetime','goout','traveltime','health','absences','failures'], skiprows = [i for i in range(1,300)])\n",
    "X_test = np.array(X_test).T\n",
    "Y_test = pd.read_csv(\"student-course1.csv\",sep = ';',usecols=['G1','G2','G3'], skiprows = [i for i in range(1,300)])\n",
    "Y_test = np.array(Y_test).T"
   ]
  },
  {
   "cell_type": "code",
   "execution_count": 2,
   "metadata": {},
   "outputs": [],
   "source": [
    "layer = [8,10,8,8,5,5,3]\n",
    "L = len(layer)\n",
    "weights = {}\n",
    "np.random.seed(0)\n",
    "for l in range(1,L):\n",
    "    weights['W'+str(l)] = np.random.rand(layer[l],layer[l-1])*0.01\n",
    "    weights['b'+str(l)] = np.zeros((layer[l],1),dtype=float)"
   ]
  },
  {
   "cell_type": "code",
   "execution_count": 3,
   "metadata": {},
   "outputs": [],
   "source": [
    "def frwd_prop(X):\n",
    "    cache = {}\n",
    "    cache['A0'] = X\n",
    "    for l in range(1,L):\n",
    "        cache['Z'+str(l)] = np.dot(weights['W'+str(l)],cache['A'+str(l-1)]) + weights['b'+str(l)]\n",
    "        cache['A'+str(l)] = np.maximum(0,cache['Z'+str(l)])\n",
    "    return cache"
   ]
  },
  {
   "cell_type": "code",
   "execution_count": 4,
   "metadata": {},
   "outputs": [],
   "source": [
    "def cost_fn(A,Y):\n",
    "    m = Y.shape[1]\n",
    "    loss = np.square(A-Y)/2\n",
    "    cost = (1/m) * np.sum(loss, axis =1)\n",
    "    return cost"
   ]
  },
  {
   "cell_type": "code",
   "execution_count": 5,
   "metadata": {},
   "outputs": [],
   "source": [
    "def bkwrd_prop(cache,Y,alpha):\n",
    "    grads = {}\n",
    "    dA = np.subtract(cache['A6'],Y)\n",
    "    for l in reversed(range(1,L)):\n",
    "        dZ = np.array(dA, copy=True)\n",
    "        dZ[cache['Z'+str(l)] <=0] = 0\n",
    "        m = cache['A'+str(l-1)].shape[1]\n",
    "        dW = np.dot(dZ,cache['A'+str(l-1)].T)/m\n",
    "        db = np.sum(dZ,axis = 1, keepdims=True)/m\n",
    "        dA = np.dot(weights['W'+str(l)].T,dZ)\n",
    "        weights['W'+str(l)] = np.subtract(weights['W'+str(l)], alpha*dW)\n",
    "        weights['b'+str(l)] = np.subtract(weights['b'+str(l)], alpha*db)\n",
    "    return weights"
   ]
  },
  {
   "cell_type": "code",
   "execution_count": 6,
   "metadata": {},
   "outputs": [],
   "source": [
    "def neural_train(X,Y,alpha,n):\n",
    "    for i in range(n):\n",
    "        cache = frwd_prop(X)\n",
    "        cost = cost_fn(cache['A6'],Y)\n",
    "        weights = bkwrd_prop(cache,Y,alpha)\n",
    "        if i%100 == 0 :\n",
    "            print(f\"cost {i}: {np.squeeze(cost)}\")\n",
    "    return weights"
   ]
  },
  {
   "cell_type": "code",
   "execution_count": 7,
   "metadata": {},
   "outputs": [
    {
     "output_type": "stream",
     "name": "stdout",
     "text": [
      "cost 0: [63.06885238 64.23606548 64.99836054]\n",
      "cost 100: [32.1981391  33.80608873 35.58082667]\n",
      "cost 200: [ 5.595663    7.60342099 10.26861287]\n",
      "cost 300: [ 5.59559507  7.60335711 10.26855396]\n",
      "cost 400: [ 5.59559505  7.60335709 10.26855394]\n"
     ]
    }
   ],
   "source": [
    "weights = neural_train(X,Y,0.003,500)"
   ]
  },
  {
   "cell_type": "code",
   "execution_count": 8,
   "metadata": {},
   "outputs": [],
   "source": [
    "def neural_test(X_test,Y_test):\n",
    "    cache = frwd_prop(X_test)\n",
    "    m = Y_test.shape[1]\n",
    "    error = cache['A6'] - Y_test\n",
    "    errord = np.sum(error, axis =1)/m\n",
    "    perc = 100 - np.absolute(errord)*100\n",
    "    print(perc)"
   ]
  },
  {
   "cell_type": "code",
   "execution_count": 9,
   "metadata": {},
   "outputs": [
    {
     "output_type": "stream",
     "name": "stdout",
     "text": [
      "[29.42285674 75.72066152 68.35378518]\n"
     ]
    }
   ],
   "source": [
    "neural_test(X_test,Y_test)"
   ]
  }
 ]
}